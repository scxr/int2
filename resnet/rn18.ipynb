{
 "cells": [
  {
   "cell_type": "code",
   "execution_count": 1,
   "metadata": {},
   "outputs": [
    {
     "name": "stdout",
     "output_type": "stream",
     "text": [
      "Running on cuda\n"
     ]
    }
   ],
   "source": [
    "import numpy as np\n",
    "import torch\n",
    "import torch.nn as nn\n",
    "import torch.nn.functional as F\n",
    "from torchvision import datasets\n",
    "from torchvision import transforms\n",
    "from torch.utils.data import DataLoader\n",
    "\n",
    "device = torch.device(\"cuda\" if torch.cuda.is_available() else \"cpu\")\n",
    "print(f\"Running on {device}\")"
   ]
  },
  {
   "cell_type": "code",
   "execution_count": 2,
   "metadata": {},
   "outputs": [],
   "source": [
    "def data_loader(data, batch_size, random_seed=123, valid_size=0.1, shuffle=True,test=False):\n",
    "    normalise = transforms.Normalize(mean=[0.4914,0.4822,0.4465],std=[0.2023,0.1994,0.2010])\n",
    "    transform = transforms.Compose([transforms.Resize((224,224)),transforms.ToTensor(),normalise])\n",
    "    transform_train = transforms.Compose(\n",
    "        [transforms.Resize((256,256)),\n",
    "         transforms.RandomHorizontalFlip(),\n",
    "         transforms.RandomVerticalFlip(p=0.5),\n",
    "         transforms.CenterCrop(224),\n",
    "         transforms.ColorJitter(brightness=0.1, contrast=0.1, saturation=0.4, hue=0.1),\n",
    "         transforms.RandomRotation(10),\n",
    "         transforms.ToTensor(),\n",
    "         normalise])\n",
    "    if test:\n",
    "        dataset = datasets.Flowers102(root=data, split=\"test\", download=True, transform=transform)\n",
    "        data_loader = DataLoader(dataset=dataset, batch_size=batch_size, shuffle=shuffle)\n",
    "        return data_loader\n",
    "    train_dataset = datasets.Flowers102(root=data, split=\"train\", download=True, transform=transform_train)\n",
    "    validation_dataset = datasets.Flowers102(root=data, split=\"val\", download=True, transform=transform)\n",
    "    num_train = len(train_dataset)\n",
    "    indices = list(range(num_train))\n",
    "    split = int(np.floor(valid_size * num_train))\n",
    "\n",
    "    if shuffle:\n",
    "        np.random.seed(random_seed)\n",
    "        np.random.shuffle(indices)\n",
    "    train_idx, valid_idx = indices[split:], indices[:split]\n",
    "    train_sampler = torch.utils.data.sampler.SubsetRandomSampler(train_idx)\n",
    "    valid_sampler = torch.utils.data.sampler.SubsetRandomSampler(valid_idx)\n",
    "    train_loader = DataLoader(dataset=train_dataset, batch_size=batch_size, sampler=train_sampler)\n",
    "    valid_loader = DataLoader(dataset=validation_dataset, batch_size=batch_size, sampler=valid_sampler)\n",
    "    return (train_loader, valid_loader)\n",
    "\n",
    "train_loader, valid_loader = data_loader(data='flowers', batch_size=32, shuffle=True, test=False)\n",
    "test_loader = data_loader(data='flowers', batch_size=32, shuffle=True, test=True)"
   ]
  },
  {
   "cell_type": "code",
   "execution_count": 3,
   "metadata": {},
   "outputs": [],
   "source": [
    "class Block(nn.Module):\n",
    "    def __init__(self, in_channels, out_channels, stride=1, downsample=None):\n",
    "        super(Block, self).__init__()\n",
    "        self.conv1 = nn.Sequential(\n",
    "            nn.Conv2d(in_channels=in_channels, out_channels=out_channels, kernel_size=3, stride=stride, padding=1, bias=False),\n",
    "            nn.BatchNorm2d(out_channels),\n",
    "            nn.ReLU()\n",
    "        )\n",
    "        self.conv2 = nn.Sequential(\n",
    "            nn.Conv2d(in_channels=out_channels, out_channels=out_channels, kernel_size=3, stride=1, padding=1),\n",
    "            nn.BatchNorm2d(out_channels)\n",
    "        )\n",
    "        self.downsample = downsample\n",
    "        self.relu = nn.ReLU()\n",
    "        self.out_channels = out_channels\n",
    "    \n",
    "    def forward(self, x):\n",
    "        residual = x\n",
    "        out = self.conv1(x)\n",
    "        out = self.conv2(out)\n",
    "        if self.downsample:\n",
    "            residual = self.downsample(x)\n",
    "        out += residual\n",
    "        out = self.relu(out)\n",
    "        return out"
   ]
  },
  {
   "cell_type": "code",
   "execution_count": 4,
   "metadata": {},
   "outputs": [],
   "source": [
    "class Rn(nn.Module):\n",
    "    def __init__(self, block, layers, num_classes=102):\n",
    "        super(Rn, self).__init__()\n",
    "        self.in_planes = 64\n",
    "        self.conv1 = nn.Sequential(\n",
    "            nn.Conv2d(in_channels=3, out_channels=64, kernel_size=7, stride=2, padding=3, bias=False),\n",
    "            nn.BatchNorm2d(64),\n",
    "            nn.ReLU()\n",
    "        )\n",
    "        self.maxpool = nn.MaxPool2d(kernel_size=3, stride=2, padding=1)\n",
    "        self.layer0 = self._make_layer(block, 64, layers[0], stride=1)\n",
    "        self.layer1 = self._make_layer(block, 128, layers[1], stride=2)\n",
    "        self.layer2 = self._make_layer(block, 256, layers[2], stride=2)\n",
    "        self.layer3 = self._make_layer(block, 512, layers[3], stride=2)\n",
    "        self.avgpool = nn.AdaptiveAvgPool2d((1, 1))\n",
    "        self.fc = nn.Linear(512, num_classes)\n",
    "    \n",
    "    def _make_layer(self, block, planes, blocks, stride=1):\n",
    "        downsample = None\n",
    "        if stride != 1 or self.in_planes != planes:\n",
    "            downsample = nn.Sequential(\n",
    "                nn.Conv2d(in_channels=self.in_planes, out_channels=planes, kernel_size=1, stride=stride, bias=False),\n",
    "                nn.BatchNorm2d(planes)\n",
    "            )\n",
    "        layers = []\n",
    "        layers.append(block(self.in_planes, planes, stride, downsample))\n",
    "        self.in_planes = planes\n",
    "        for i in range(1, blocks):\n",
    "            layers.append(block(self.in_planes, planes))\n",
    "        return nn.Sequential(*layers)\n",
    "\n",
    "    def forward(self, x):\n",
    "        x = self.conv1(x)\n",
    "        x = self.maxpool(x)\n",
    "        x = self.layer0(x)\n",
    "        x = self.layer1(x)\n",
    "        x = self.layer2(x)\n",
    "        x = self.layer3(x)\n",
    "        x = self.avgpool(x)\n",
    "        x = x.view(x.size(0),-1)\n",
    "        x = self.fc(x)\n",
    "        return x\n",
    "    "
   ]
  },
  {
   "cell_type": "code",
   "execution_count": 5,
   "metadata": {},
   "outputs": [],
   "source": [
    "num_classes = 102\n",
    "num_epochs = 1000\n",
    "learning_rate = 0.001\n",
    "weight_decay = 5e-4\n",
    "model = Rn(Block, [2,2,2,2], num_classes).to(device)\n",
    "criterion = nn.CrossEntropyLoss()\n",
    "optimizer = torch.optim.SGD(model.parameters(), lr=learning_rate, momentum=0.9, weight_decay=weight_decay)\n",
    "total_step = len(train_loader)"
   ]
  },
  {
   "cell_type": "code",
   "execution_count": 6,
   "metadata": {},
   "outputs": [
    {
     "name": "stdout",
     "output_type": "stream",
     "text": [
      "11230758\n"
     ]
    }
   ],
   "source": [
    "def count_parameters(model)->int:\n",
    "    return sum(p.numel() for p in model.parameters() if p.requires_grad)\n",
    "print(count_parameters(model))"
   ]
  },
  {
   "cell_type": "code",
   "execution_count": 7,
   "metadata": {},
   "outputs": [],
   "source": [
    "import requests\n",
    "def post_discord(epoch,train_loss, val_accuracy):\n",
    "    data = {\n",
    "        \"username\": \"Flower Classifier\"\n",
    "    }\n",
    "    data[\"embeds\"] = [\n",
    "        {\n",
    "            \"title\": \"Epoch {} Results\".format(epoch),\n",
    "            \"color\": 0x00ff00,\n",
    "            \"fields\": [\n",
    "                {\n",
    "                    \"name\": \"Training Loss\",\n",
    "                    \"value\": f\"{train_loss}\",\n",
    "                    \"inline\": False\n",
    "                },\n",
    "                {\n",
    "                    \"name\": \"Validation Accuracy\",\n",
    "                    \"value\": f\"{val_accuracy}\",\n",
    "                    \"inline\": False\n",
    "                },\n",
    "            ]\n",
    "        }\n",
    "    ]\n",
    "    r = requests.post(\"https://discord.com/api/webhooks/1052587856343867392/SnR2U4HIdeF6ShECr0k1Mit6yrl3HgjtCMk_LykGD8eQ1qsZViY8HLeYsoBUXOHYfbgP\", json=data)\n",
    "    print(r.status_code)\n"
   ]
  },
  {
   "cell_type": "code",
   "execution_count": 8,
   "metadata": {},
   "outputs": [
    {
     "name": "stdout",
     "output_type": "stream",
     "text": [
      "Epoch [1/1000], Loss: 4.5671\n",
      "Validation Accuracy: 2.9411764705882355 %\n",
      "204\n",
      "Epoch [2/1000], Loss: 4.3943\n",
      "Epoch [3/1000], Loss: 4.1341\n",
      "Epoch [4/1000], Loss: 3.8074\n",
      "Epoch [5/1000], Loss: 3.6166\n",
      "Epoch [6/1000], Loss: 3.5617\n",
      "Epoch [7/1000], Loss: 3.5639\n",
      "Epoch [8/1000], Loss: 3.1099\n",
      "Epoch [9/1000], Loss: 3.3527\n",
      "Epoch [10/1000], Loss: 3.2082\n",
      "Epoch [11/1000], Loss: 3.2205\n",
      "Validation Accuracy: 13.72549019607843 %\n",
      "204\n",
      "Epoch [12/1000], Loss: 3.2586\n",
      "Epoch [13/1000], Loss: 2.7190\n",
      "Epoch [14/1000], Loss: 2.7379\n",
      "Epoch [15/1000], Loss: 2.8276\n",
      "Epoch [16/1000], Loss: 2.8956\n",
      "Epoch [17/1000], Loss: 2.9104\n",
      "Epoch [18/1000], Loss: 2.4072\n",
      "Epoch [19/1000], Loss: 2.6006\n",
      "Epoch [20/1000], Loss: 2.7606\n",
      "Epoch [21/1000], Loss: 2.5472\n",
      "Validation Accuracy: 17.647058823529413 %\n",
      "204\n",
      "Epoch [22/1000], Loss: 2.7568\n",
      "Epoch [23/1000], Loss: 2.3952\n",
      "Epoch [24/1000], Loss: 2.6235\n",
      "Epoch [25/1000], Loss: 2.2434\n",
      "Epoch [26/1000], Loss: 1.9907\n",
      "Epoch [27/1000], Loss: 2.0657\n",
      "Epoch [28/1000], Loss: 2.1517\n",
      "Epoch [29/1000], Loss: 2.1991\n",
      "Epoch [30/1000], Loss: 2.0090\n",
      "Epoch [31/1000], Loss: 2.0279\n",
      "Validation Accuracy: 19.607843137254903 %\n",
      "204\n",
      "Epoch [32/1000], Loss: 2.1864\n",
      "Epoch [33/1000], Loss: 1.9476\n",
      "Epoch [34/1000], Loss: 1.6540\n",
      "Epoch [35/1000], Loss: 2.3128\n",
      "Epoch [36/1000], Loss: 1.7346\n",
      "Epoch [37/1000], Loss: 1.6029\n",
      "Epoch [38/1000], Loss: 1.5884\n",
      "Epoch [39/1000], Loss: 2.0275\n",
      "Epoch [40/1000], Loss: 1.6549\n",
      "Epoch [41/1000], Loss: 1.8139\n",
      "Validation Accuracy: 22.54901960784314 %\n",
      "204\n",
      "Epoch [42/1000], Loss: 1.6088\n",
      "Epoch [43/1000], Loss: 1.3958\n",
      "Epoch [44/1000], Loss: 1.2164\n",
      "Epoch [45/1000], Loss: 1.3168\n",
      "Epoch [46/1000], Loss: 1.2410\n",
      "Epoch [47/1000], Loss: 1.3665\n",
      "Epoch [48/1000], Loss: 1.1331\n",
      "Epoch [49/1000], Loss: 1.2958\n",
      "Epoch [50/1000], Loss: 1.2090\n",
      "Epoch [51/1000], Loss: 1.1689\n",
      "Validation Accuracy: 24.50980392156863 %\n",
      "204\n",
      "Epoch [52/1000], Loss: 1.0575\n",
      "Epoch [53/1000], Loss: 0.8459\n",
      "Epoch [54/1000], Loss: 1.1751\n",
      "Epoch [55/1000], Loss: 1.1906\n",
      "Epoch [56/1000], Loss: 1.1953\n",
      "Epoch [57/1000], Loss: 0.7243\n"
     ]
    }
   ],
   "source": [
    "import gc\n",
    "total_step = len(train_loader)\n",
    "\n",
    "for epoch in range(num_epochs):\n",
    "    for i, (images, labels) in enumerate(train_loader):\n",
    "        images = images.to(device)\n",
    "        labels = labels.to(device)\n",
    "        outputs = model(images)\n",
    "        loss = criterion(outputs, labels)\n",
    "        optimizer.zero_grad()\n",
    "        loss.backward()\n",
    "        optimizer.step()\n",
    "        torch.cuda.empty_cache()\n",
    "        gc.collect()\n",
    "    print('Epoch [{}/{}], Loss: {:.4f}'.format(epoch+1, num_epochs, loss.item()))\n",
    "    if epoch % 10 == 0:\n",
    "        with torch.no_grad():\n",
    "            correct = 0\n",
    "            total = 0\n",
    "            for images, labels in valid_loader:\n",
    "                images = images.to(device)\n",
    "                labels = labels.to(device)\n",
    "                outputs = model(images)\n",
    "                _, predicted = torch.max(outputs.data, 1)\n",
    "                total += labels.size(0)\n",
    "                correct += (predicted==labels).sum().item()\n",
    "            print('Validation Accuracy: {} %'.format(100 * correct / total))\n",
    "            post_discord(epoch+1, '{:.4f}'.format(loss.item()), 100 * correct / total)"
   ]
  },
  {
   "cell_type": "code",
   "execution_count": null,
   "metadata": {},
   "outputs": [
    {
     "name": "stdout",
     "output_type": "stream",
     "text": [
      "Accuracy of the network on the 6149 test images: 47.47113351764514 %\n"
     ]
    }
   ],
   "source": [
    "with torch.no_grad():\n",
    "    correct = 0\n",
    "    total = 0\n",
    "    for images, labels in test_loader:\n",
    "        images = images.to(device)\n",
    "        labels = labels.to(device)\n",
    "        outputs = model(images)\n",
    "        _, predicted = torch.max(outputs.data, 1)\n",
    "        total += labels.size(0)\n",
    "        correct += (predicted == labels).sum().item()\n",
    "        del images, labels, outputs\n",
    "\n",
    "    print('Accuracy of the network on the {} test images: {} %'.format(total, 100 * correct / total))   \n"
   ]
  },
  {
   "cell_type": "code",
   "execution_count": null,
   "metadata": {},
   "outputs": [
    {
     "name": "stdout",
     "output_type": "stream",
     "text": [
      "11230758\n"
     ]
    }
   ],
   "source": [
    "def count_parameters(model)->int:\n",
    "    return sum(p.numel() for p in model.parameters() if p.requires_grad)\n",
    "print(count_parameters(model))"
   ]
  },
  {
   "cell_type": "code",
   "execution_count": null,
   "metadata": {},
   "outputs": [],
   "source": [
    "torch.save(model.state_dict(), 'resnet18_2.pth')"
   ]
  }
 ],
 "metadata": {
  "kernelspec": {
   "display_name": "venv",
   "language": "python",
   "name": "python3"
  },
  "language_info": {
   "codemirror_mode": {
    "name": "ipython",
    "version": 3
   },
   "file_extension": ".py",
   "mimetype": "text/x-python",
   "name": "python",
   "nbconvert_exporter": "python",
   "pygments_lexer": "ipython3",
   "version": "3.9.7"
  },
  "orig_nbformat": 4
 },
 "nbformat": 4,
 "nbformat_minor": 2
}
