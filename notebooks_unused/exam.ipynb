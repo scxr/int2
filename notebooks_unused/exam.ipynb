{
 "cells": [
  {
   "cell_type": "code",
   "execution_count": 19,
   "metadata": {},
   "outputs": [],
   "source": [
    "import torch\n",
    "import torch.nn as nn\n",
    "import torch.optim as optim\n",
    "import torchvision.transforms as transforms\n",
    "import torchvision.datasets as datasets\n",
    "from torch.utils.data import DataLoader"
   ]
  },
  {
   "cell_type": "code",
   "execution_count": 20,
   "metadata": {},
   "outputs": [],
   "source": [
    "import json\n",
    "labels_map = json.load(open(\"label_maps.json\"))\n"
   ]
  },
  {
   "cell_type": "code",
   "execution_count": 21,
   "metadata": {},
   "outputs": [],
   "source": [
    "class FlowerCNN(nn.Module):\n",
    "    def __init__(self, num_classes=102):\n",
    "        super(FlowerCNN, self).__init__()\n",
    "        self.relu = nn.ReLU()\n",
    "        self.max_pool = nn.MaxPool2d(2, 2)\n",
    "\n",
    "        self.conv1 = nn.Conv2d(3, 16, 3, stride=1, padding=1)\n",
    "        self.bn1 = nn.BatchNorm2d(16)\n",
    "        self.conv2 = nn.Conv2d(16, 32, 3, stride=1, padding=1)\n",
    "        self.bn2 = nn.BatchNorm2d(32)\n",
    "        self.conv3 = nn.Conv2d(32, 64, 3, stride=1, padding=1)\n",
    "        self.bn3 = nn.BatchNorm2d(64)\n",
    "        self.conv4 = nn.Conv2d(64, 128, 3, stride=1, padding=1)\n",
    "        self.bn4 = nn.BatchNorm2d(128)\n",
    "        self.conv5 = nn.Conv2d(128, 256, 3, stride=1, padding=1)\n",
    "        self.bn5 = nn.BatchNorm2d(256)\n",
    "        self.conv6 = nn.Conv2d(256, 256, 3, stride=1, padding=1)\n",
    "        self.bn6 = nn.BatchNorm2d(256)\n",
    "        self.conv7 = nn.Conv2d(256, 128, 3, stride=1, padding=1)\n",
    "        self.bn7 = nn.BatchNorm2d(128)\n",
    "        self.conv8 = nn.Conv2d(128, 64, 3, stride=1, padding=1)\n",
    "        self.bn8 = nn.BatchNorm2d(64)\n",
    "\n",
    "        # Calculate the input size for the fully connected layer\n",
    "        fc1_input_size = self._get_fc1_input_size()\n",
    "\n",
    "        self.fc1 = nn.Linear(fc1_input_size, 512)\n",
    "        self.fc2 = nn.Linear(512, num_classes)\n",
    "        self.dropout = nn.Dropout(0.6)\n",
    "\n",
    "    def _get_fc1_input_size(self):\n",
    "        dummy_input = torch.zeros(1, 3, 224, 224)\n",
    "        output = self._forward_features(dummy_input)\n",
    "        return output.view(-1).shape[0]\n",
    "\n",
    "    def _forward_features(self, x):\n",
    "        x = self.conv1(x)\n",
    "        x = self.relu(x)\n",
    "        x = self.bn1(x)\n",
    "        x = self.max_pool(x)\n",
    "\n",
    "        x = self.conv2(x)\n",
    "        x = self.relu(x)\n",
    "        x = self.bn2(x)\n",
    "        x = self.max_pool(x)\n",
    "\n",
    "        x = self.conv3(x)\n",
    "        x = self.relu(x)\n",
    "        x = self.bn3(x)\n",
    "        x = self.max_pool(x)\n",
    "\n",
    "        x = self.conv4(x)\n",
    "        x = self.relu(x)\n",
    "        x = self.bn4(x)\n",
    "        x = self.max_pool(x)\n",
    "\n",
    "        x = self.conv5(x)\n",
    "        x = self.relu(x)\n",
    "        x = self.bn5(x)\n",
    "        x = self.max_pool(x)\n",
    "\n",
    "        x = self.conv6(x)\n",
    "        x = self.relu(x)\n",
    "        x = self.bn6(x)\n",
    "\n",
    "        x = self.conv7(x)\n",
    "        x = self.relu(x)\n",
    "        x = self.bn7(x)\n",
    "\n",
    "        x = self.conv8(x)\n",
    "        x = self.relu(x)\n",
    "        x = self.bn8(x)\n",
    "        x = self.max_pool(x)\n",
    "\n",
    "        return x\n",
    "\n",
    "    def forward(self, x):\n",
    "        x = self._forward_features(x)\n",
    "        x = x.view(x.size(0), -1)\n",
    "        x = self.fc1(x)\n",
    "        x = self.relu(x)\n",
    "        x = self.dropout(x)\n",
    "        x = self.fc2(x)\n",
    "        return x\n"
   ]
  },
  {
   "cell_type": "code",
   "execution_count": 22,
   "metadata": {},
   "outputs": [
    {
     "data": {
      "text/plain": [
       "'\\n34% accuracy\\nlearning_rate = 0.0001 # 0.0001 = 41.5% accuracy\\nbatch_size = 16\\nnum_epochs = 50\\nmomentum = 0.9\\nweight_decay = 1e-4\\n\\n35.4\\nlearning_rate = 0.0001 # 0.0001 = 41.5% accuracy\\nbatch_size = 16\\nnum_epochs = 50\\nmomentum = 0.9\\nweight_decay = 1e-3#\\n\\nlearning_rate = 0.0001 # 0.0001 = 41.5% accuracy\\nbatch_size = 8\\nnum_epochs = 50\\nmomentum = 0.9\\nweight_decay = 1e-3\\n\\n36.5\\nlearning_rate = 0.00008 # 0.0001 = 41.5% accuracy\\nbatch_size = 8\\nnum_epochs = 50\\nmomentum = 0.9\\nweight_decay = 1e-3\\n\\n'"
      ]
     },
     "execution_count": 22,
     "metadata": {},
     "output_type": "execute_result"
    }
   ],
   "source": [
    "'''\n",
    "34% accuracy\n",
    "learning_rate = 0.0001 # 0.0001 = 41.5% accuracy\n",
    "batch_size = 16\n",
    "num_epochs = 50\n",
    "momentum = 0.9\n",
    "weight_decay = 1e-4\n",
    "\n",
    "35.4\n",
    "learning_rate = 0.0001 # 0.0001 = 41.5% accuracy\n",
    "batch_size = 16\n",
    "num_epochs = 50\n",
    "momentum = 0.9\n",
    "weight_decay = 1e-3#\n",
    "\n",
    "learning_rate = 0.0001 # 0.0001 = 41.5% accuracy\n",
    "batch_size = 8\n",
    "num_epochs = 50\n",
    "momentum = 0.9\n",
    "weight_decay = 1e-3\n",
    "\n",
    "36.5\n",
    "learning_rate = 0.00008 # 0.0001 = 41.5% accuracy\n",
    "batch_size = 8\n",
    "num_epochs = 50\n",
    "momentum = 0.9\n",
    "weight_decay = 1e-3\n",
    "\n",
    "'''"
   ]
  },
  {
   "cell_type": "code",
   "execution_count": 23,
   "metadata": {},
   "outputs": [],
   "source": [
    "# HYPERPARAMETERS\n",
    "learning_rate = 0.0001 # 0.0001 = 41.5% accuracy\n",
    "batch_size = 8\n",
    "num_epochs = 6\n",
    "momentum = 0.7\n",
    "weight_decay = 1e-3\n",
    "show_accuracy_every = 3\n",
    "\n",
    "\n",
    "device = torch.device(\"cuda:0\" if torch.cuda.is_available() else \"cpu\")\n"
   ]
  },
  {
   "cell_type": "code",
   "execution_count": 24,
   "metadata": {},
   "outputs": [
    {
     "name": "stdout",
     "output_type": "stream",
     "text": [
      "1020 6149 1020\n"
     ]
    }
   ],
   "source": [
    "import torchvision\n",
    "transform = transforms.Compose([\n",
    "    transforms.RandomHorizontalFlip(),\n",
    "    transforms.RandomRotation(10),\n",
    "    transforms.RandomResizedCrop(224, scale=(0.8, 1.0)),\n",
    "    transforms.ToTensor(),\n",
    "    transforms.Normalize(mean=[0.485, 0.456, 0.406], std=[0.229, 0.224, 0.225])\n",
    "])\n",
    "transform2 = transforms.Compose([\n",
    "    transforms.RandomVerticalFlip(),\n",
    "    transforms.ColorJitter(brightness=0.4, contrast=0.4, saturation=0.4, hue=0.1),\n",
    "    transforms.CenterCrop(224),\n",
    "    transforms.ToTensor(),\n",
    "    transforms.Normalize(mean=[0.485, 0.456, 0.406], std=[0.229, 0.224, 0.225])\n",
    "\n",
    "])\n",
    "\n",
    "transform3 = transforms.Compose([\n",
    "    transforms.RandomAffine(degrees=10, translate=(0.1, 0.1), scale=(0.9, 1.1), shear=10),\n",
    "    transforms.RandomPerspective(distortion_scale=0.2, p=0.5),\n",
    "    transforms.RandomResizedCrop(224, scale=(0.8, 1.0)),\n",
    "    transforms.ToTensor(),\n",
    "    transforms.Normalize(mean=[0.485, 0.456, 0.406], std=[0.229, 0.224, 0.225])\n",
    "])\n",
    "\n",
    "test_transform = transforms.Compose([\n",
    "    transforms.Resize((224, 224)),\n",
    "    transforms.ToTensor(),\n",
    "    transforms.Normalize(mean=[0.485, 0.456, 0.406], std=[0.229, 0.224, 0.225])\n",
    "])\n",
    "# Load dataset\n",
    "\n",
    "train_set = torchvision.datasets.Flowers102(root=\"data\", download=True, transform=transform)\n",
    "train_set2 = torchvision.datasets.Flowers102(root=\"data\", download=True, transform=transform2)\n",
    "train_set3 = torchvision.datasets.Flowers102(root=\"data\", download=True, transform=transform3)\n",
    "test_set = torchvision.datasets.Flowers102(root=\"data\", download=True, split=\"test\", transform=test_transform)\n",
    "val_set = torchvision.datasets.Flowers102(root=\"data\", download=True, split=\"val\", transform=test_transform)\n",
    "train_loader = DataLoader(train_set, batch_size=batch_size, shuffle=True)\n",
    "train_loader2 = DataLoader(train_set2, batch_size=batch_size, shuffle=True)\n",
    "train_loader3 = DataLoader(train_set3, batch_size=batch_size, shuffle=True)\n",
    "valid_loader = DataLoader(val_set, batch_size=batch_size, shuffle=False)\n",
    "test_loader = DataLoader(test_set, batch_size=batch_size, shuffle=False)\n",
    "print(len(train_set), len(test_set), len(val_set))\n"
   ]
  },
  {
   "cell_type": "code",
   "execution_count": 25,
   "metadata": {},
   "outputs": [],
   "source": [
    "import random\n",
    "def merge_loaders(*loaders):\n",
    "    all_data = []\n",
    "    for loader in loaders:\n",
    "        for data in loader:\n",
    "            all_data.append(data)\n",
    "    \n",
    "    random.shuffle(all_data)\n",
    "    \n",
    "    for data in all_data:\n",
    "        yield data\n",
    "merged_train_loader = merge_loaders(train_loader,train_loader2, train_loader3)\n"
   ]
  },
  {
   "cell_type": "code",
   "execution_count": 26,
   "metadata": {},
   "outputs": [],
   "source": [
    "# import matplotlib.pyplot as plt\n",
    "# import numpy as np\n",
    "# def imshow(img, title):\n",
    "#     img = img.numpy().transpose((1, 2, 0))\n",
    "#     mean = np.array([0.485, 0.456, 0.406])\n",
    "#     std = np.array([0.229, 0.224, 0.225])\n",
    "#     img = std * img + mean\n",
    "#     img = np.clip(img, 0, 1)\n",
    "#     plt.imshow(img)\n",
    "#     plt.title(title)\n",
    "#     plt.show()\n",
    "# dataiter = iter(merged_train_loader)\n",
    "# images, labels = dataiter.__next__()\n",
    "\n",
    "# # Create a grid of images and display them along with their labels\n",
    "# grid = torchvision.utils.make_grid(images)\n",
    "# title = [labels_map[str(label.item())] for label in labels]\n",
    "# imshow(grid, title)"
   ]
  },
  {
   "cell_type": "code",
   "execution_count": 27,
   "metadata": {},
   "outputs": [],
   "source": [
    "model = FlowerCNN().to(device)\n",
    "criterion = nn.CrossEntropyLoss()\n",
    "optimizer = optim.SGD(model.parameters(), lr=learning_rate, momentum=momentum, weight_decay=weight_decay)"
   ]
  },
  {
   "cell_type": "code",
   "execution_count": 28,
   "metadata": {},
   "outputs": [
    {
     "name": "stdout",
     "output_type": "stream",
     "text": [
      "Epoch [1/6], Validation Accuracy: 2.65%\n",
      "Epoch [2/6]\n",
      "Epoch [3/6], Validation Accuracy: 2.65%\n",
      "Epoch [4/6]\n",
      "Epoch [5/6]\n",
      "Epoch [6/6], Validation Accuracy: 2.65%\n"
     ]
    }
   ],
   "source": [
    "for epoch in range(num_epochs):\n",
    "    model.train()\n",
    "    for i, (inputs, labels) in enumerate(merged_train_loader):\n",
    "        inputs, labels = inputs.to(device), labels.to(device)\n",
    "\n",
    "        optimizer.zero_grad()\n",
    "\n",
    "        outputs = model(inputs)\n",
    "        loss = criterion(outputs, labels)\n",
    "        loss.backward()\n",
    "        optimizer.step()\n",
    "    if (epoch+1) % 3 == 0 or epoch == 0:\n",
    "    # Validation loop\n",
    "        model.eval()\n",
    "        with torch.no_grad():\n",
    "            total = 0\n",
    "            correct = 0\n",
    "            for inputs, labels in valid_loader:\n",
    "                inputs, labels = inputs.to(device), labels.to(device)\n",
    "\n",
    "                outputs = model(inputs)\n",
    "                _, predicted = torch.max(outputs.data, 1)\n",
    "                total += labels.size(0)\n",
    "                correct += (predicted == labels).sum().item()\n",
    "\n",
    "            accuracy = 100 * correct / total\n",
    "            print(f\"Epoch [{epoch+1}/{num_epochs}], Validation Accuracy: {accuracy:.2f}%\")\n",
    "    else:\n",
    "        print(f\"Epoch [{epoch+1}/{num_epochs}]\")\n",
    "\n",
    "# Testing loop\n"
   ]
  },
  {
   "cell_type": "code",
   "execution_count": 29,
   "metadata": {},
   "outputs": [
    {
     "name": "stdout",
     "output_type": "stream",
     "text": [
      "Test Accuracy: 1.94%\n"
     ]
    }
   ],
   "source": [
    "import csv\n",
    "model.to(device)\n",
    "# Testing loop\n",
    "model.eval()\n",
    "class_correct = [0 for _ in range(102)]\n",
    "class_total = [0 for _ in range(102)]\n",
    "class_accuracies = []\n",
    "\n",
    "with torch.no_grad():\n",
    "    for inputs, labels in test_loader:\n",
    "        inputs, labels = inputs.to(device), labels.to(device)\n",
    "        outputs = model(inputs)\n",
    "        _, predicted = torch.max(outputs.data, 1)\n",
    "\n",
    "        for i in range(labels.size(0)):\n",
    "            label = labels[i]\n",
    "            class_correct[label] += (predicted[i] == label).item()\n",
    "            class_total[label] += 1\n",
    "\n",
    "    accuracy = 100 * sum(class_correct) / sum(class_total)\n",
    "    print(f\"Test Accuracy: {accuracy:.2f}%\")\n",
    "\n",
    "    for i in range(102):\n",
    "        if class_total[i] > 0:\n",
    "            class_accuracy = 100 * class_correct[i] / class_total[i]\n",
    "            class_accuracies.append((labels_map[str(i)], f\"{class_accuracy}%\"))\n",
    "\n",
    "sorted_class_accuracies = sorted(class_accuracies, key=lambda x: x[1], reverse=True)\n",
    "\n",
    "with open(\"class_accuracies.csv\", \"w\", newline=\"\") as csvfile:\n",
    "    csv_writer = csv.writer(csvfile)\n",
    "    csv_writer.writerow([\"Class\", \"Accuracy\"])\n",
    "\n",
    "    for class_info in sorted_class_accuracies:\n",
    "        class_index, class_accuracy = class_info\n",
    "        csv_writer.writerow([class_index, class_accuracy])"
   ]
  },
  {
   "cell_type": "code",
   "execution_count": 30,
   "metadata": {},
   "outputs": [],
   "source": [
    "# from torch.utils.tensorboard import SummaryWriter\n",
    "# model = FlowerCNN()\n",
    "# dummy_input = torch.zeros((1, 3, 64, 64))  # Create a dummy input with the same dimensions as your input images\n",
    "# writer = SummaryWriter(log_dir='runs/flower_cnn')\n",
    "\n",
    "# # Add the model graph to TensorBoard\n",
    "# writer.add_graph(model, dummy_input)\n",
    "# writer.close()"
   ]
  },
  {
   "cell_type": "code",
   "execution_count": 31,
   "metadata": {},
   "outputs": [
    {
     "name": "stdout",
     "output_type": "stream",
     "text": [
      "Saving model...\n",
      "Model saved!\n"
     ]
    }
   ],
   "source": [
    "import time\n",
    "print(\"Saving model...\")\n",
    "torch.save(model.state_dict(), f\"./models/model_{time.time()}.pth\")\n",
    "print(\"Model saved!\")\n"
   ]
  },
  {
   "cell_type": "code",
   "execution_count": 32,
   "metadata": {},
   "outputs": [],
   "source": [
    "# # Testing loop\n",
    "# model.to(device)\n",
    "# model.eval()\n",
    "# class_correct = [0 for _ in range(102)]\n",
    "# class_total = [0 for _ in range(102)]\n",
    "\n",
    "# with torch.no_grad():\n",
    "#     for inputs, labels in test_loader:\n",
    "#         inputs, labels = inputs.to(device), labels.to(device)\n",
    "\n",
    "#         outputs = model(inputs)\n",
    "#         _, predicted = torch.max(outputs.data, 1)\n",
    "\n",
    "#         for i in range(labels.size(0)):\n",
    "#             label = labels[i]\n",
    "#             class_correct[label] += (predicted[i] == label).item()\n",
    "#             class_total[label] += 1\n",
    "\n",
    "#     accuracy = 100 * sum(class_correct) / sum(class_total)\n",
    "#     print(f\"Test Accuracy: {accuracy:.2f}%\")\n",
    "\n",
    "#     for i in range(102):\n",
    "#         if class_total[i] > 0:\n",
    "#             class_accuracy = 100 * class_correct[i] / class_total[i]\n",
    "#             print(f\"Class {i}: Accuracy: {class_accuracy:.2f}% ({class_correct[i]}/{class_total[i]})\")\n",
    "#         else:\n",
    "#             print(f\"Class {i}: No samples\")\n"
   ]
  }
 ],
 "metadata": {
  "kernelspec": {
   "display_name": "venv",
   "language": "python",
   "name": "python3"
  },
  "language_info": {
   "codemirror_mode": {
    "name": "ipython",
    "version": 3
   },
   "file_extension": ".py",
   "mimetype": "text/x-python",
   "name": "python",
   "nbconvert_exporter": "python",
   "pygments_lexer": "ipython3",
   "version": "3.9.7"
  },
  "orig_nbformat": 4
 },
 "nbformat": 4,
 "nbformat_minor": 2
}
